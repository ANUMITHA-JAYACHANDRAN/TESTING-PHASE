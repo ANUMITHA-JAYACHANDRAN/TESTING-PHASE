{
  "nbformat": 4,
  "nbformat_minor": 0,
  "metadata": {
    "colab": {
      "provenance": [],
      "authorship_tag": "ABX9TyNQ1o7nN8rr4XvRQfAfalsR",
      "include_colab_link": true
    },
    "kernelspec": {
      "name": "python3",
      "display_name": "Python 3"
    },
    "language_info": {
      "name": "python"
    }
  },
  "cells": [
    {
      "cell_type": "markdown",
      "metadata": {
        "id": "view-in-github",
        "colab_type": "text"
      },
      "source": [
        "<a href=\"https://colab.research.google.com/github/ANUMITHA-JAYACHANDRAN/TESTING-PHASE/blob/main/PROB_NO_1B_calculator_collab.ipynb\" target=\"_parent\"><img src=\"https://colab.research.google.com/assets/colab-badge.svg\" alt=\"Open In Colab\"/></a>"
      ]
    },
    {
      "cell_type": "code",
      "execution_count": null,
      "metadata": {
        "colab": {
          "base_uri": "https://localhost:8080/"
        },
        "id": "xDDEUcpjLKOw",
        "outputId": "d82c905c-a01d-4537-a0c9-9293fd42b5b6"
      },
      "outputs": [
        {
          "metadata": {
            "tags": null
          },
          "name": "stdout",
          "output_type": "stream",
          "text": [
            "0.Exit\n",
            "1.Add\n",
            "2.Subtraction\n",
            "3.Multiplication\n",
            "4.Division\n",
            "Result: 5.0\n",
            "\n",
            "0.Exit\n",
            "1.Add\n",
            "2.Subtraction\n",
            "3.Multiplication\n",
            "4.Division\n"
          ]
        }
      ],
      "source": [
        "class cal():\n",
        "    def __init__(self, a, b):\n",
        "        self.a = a\n",
        "        self.b = b\n",
        "\n",
        "    def add(self):\n",
        "        return self.a + self.b\n",
        "\n",
        "    def mul(self):\n",
        "        return self.a * self.b\n",
        "\n",
        "    def div(self):\n",
        "        return self.a / self.b\n",
        "\n",
        "    def sub(self):\n",
        "        return self.a - self.b\n",
        "\n",
        "a = int(input(\"Enter first number: \"))\n",
        "b = int(input(\"Enter second number: \"))\n",
        "obj = cal(a, b)\n",
        "choice = 1\n",
        "while choice != 0:\n",
        "    print(\"0.Exit\")\n",
        "    print(\"1.Add\")\n",
        "    print(\"2.Subtraction\")\n",
        "    print(\"3.Multiplication\")\n",
        "    print(\"4.Division\")\n",
        "    choice = int(input(\"Enter choice: \"))\n",
        "    if choice == 1:\n",
        "        print(\"Result:\", obj.add())\n",
        "    elif choice == 2:\n",
        "        print(\"Result:\", obj.sub())\n",
        "    elif choice == 3:\n",
        "        print(\"Result:\", obj.mul())\n",
        "    elif choice == 4:\n",
        "        print(\"Result:\", round(obj.div(), 2))\n",
        "    elif choice == 0:\n",
        "        print(\"Exiting!\")\n",
        "    else:\n",
        "        print(\"Invalid choice!\")\n",
        "    print()"
      ]
    },
    {
      "cell_type": "code",
      "source": [
        "class Calculator(a,b,c):\n",
        "  def __init__ (self,a,b,c):\n",
        "    self.a=a\n",
        "    self.b=b\n",
        "    self.c=c\n",
        "\n",
        "  def sum(self):\n",
        "    print(self.a+self.b+self.c)\n",
        "\n",
        "  #driver code\n",
        "\n",
        "  a=int(input(\"enter a:\"))\n",
        "  b=int(input(\"enter b:\"))\n",
        "  c=int(input(\"enter c:\"))\n",
        "  obj1 = Calculator(a,b,c)\n",
        "\n",
        "  print(\"1.add\")\n",
        "  print(\"2.exit\")\n",
        "  choice =int(input(\"enter choice:\"))\n",
        "  if choice==1:\n",
        "     print(\"result\", obj1.sum())\n"
      ],
      "metadata": {
        "colab": {
          "base_uri": "https://localhost:8080/",
          "height": 211
        },
        "id": "VA5LfwH0JozY",
        "outputId": "7d235a77-da11-40c8-ffd1-08c32abfc8b2"
      },
      "execution_count": null,
      "outputs": [
        {
          "output_type": "error",
          "ename": "NameError",
          "evalue": "name 'a' is not defined",
          "traceback": [
            "\u001b[0;31m---------------------------------------------------------------------------\u001b[0m",
            "\u001b[0;31mNameError\u001b[0m                                 Traceback (most recent call last)",
            "\u001b[0;32m<ipython-input-18-e7462fcb512b>\u001b[0m in \u001b[0;36m<cell line: 1>\u001b[0;34m()\u001b[0m\n\u001b[0;32m----> 1\u001b[0;31m \u001b[0;32mclass\u001b[0m \u001b[0mCalculator\u001b[0m\u001b[0;34m(\u001b[0m\u001b[0ma\u001b[0m\u001b[0;34m,\u001b[0m\u001b[0mb\u001b[0m\u001b[0;34m,\u001b[0m\u001b[0mc\u001b[0m\u001b[0;34m)\u001b[0m\u001b[0;34m:\u001b[0m\u001b[0;34m\u001b[0m\u001b[0;34m\u001b[0m\u001b[0m\n\u001b[0m\u001b[1;32m      2\u001b[0m   \u001b[0;32mdef\u001b[0m \u001b[0m__init__\u001b[0m \u001b[0;34m(\u001b[0m\u001b[0mself\u001b[0m\u001b[0;34m,\u001b[0m\u001b[0ma\u001b[0m\u001b[0;34m,\u001b[0m\u001b[0mb\u001b[0m\u001b[0;34m,\u001b[0m\u001b[0mc\u001b[0m\u001b[0;34m)\u001b[0m\u001b[0;34m:\u001b[0m\u001b[0;34m\u001b[0m\u001b[0;34m\u001b[0m\u001b[0m\n\u001b[1;32m      3\u001b[0m     \u001b[0mself\u001b[0m\u001b[0;34m.\u001b[0m\u001b[0ma\u001b[0m\u001b[0;34m=\u001b[0m\u001b[0ma\u001b[0m\u001b[0;34m\u001b[0m\u001b[0;34m\u001b[0m\u001b[0m\n\u001b[1;32m      4\u001b[0m     \u001b[0mself\u001b[0m\u001b[0;34m.\u001b[0m\u001b[0mb\u001b[0m\u001b[0;34m=\u001b[0m\u001b[0mb\u001b[0m\u001b[0;34m\u001b[0m\u001b[0;34m\u001b[0m\u001b[0m\n\u001b[1;32m      5\u001b[0m     \u001b[0mself\u001b[0m\u001b[0;34m.\u001b[0m\u001b[0mc\u001b[0m\u001b[0;34m=\u001b[0m\u001b[0mc\u001b[0m\u001b[0;34m\u001b[0m\u001b[0;34m\u001b[0m\u001b[0m\n",
            "\u001b[0;31mNameError\u001b[0m: name 'a' is not defined"
          ]
        }
      ]
    },
    {
      "cell_type": "code",
      "source": [
        "def calculateBill(units):\n",
        "2\t  if (units<=100):\n",
        "3\t    return units*10;\n",
        "4\t  elif(units<=200):\n",
        "5\t    return((100*10)+(units-100)*15);\n",
        "6\t  elif(units<=300):\n",
        "7\t    return((100*10)+(100*15)+(units-200)*20);\n",
        "8\t  elif(units>300):\n",
        "9\t    return((100*10)+(100*15)+(100*20)+(units-300)*25);\n",
        "10\treturn 0;\n",
        "11\t#Driver code\n",
        "12\tunits = int(input(\"Enter number of units:\"))\n",
        "13\tprint(\"Payable amount:\")\n",
        "14\tprint(calculateBill(units));\n"
      ],
      "metadata": {
        "id": "MnG3kVeHQjqO"
      },
      "execution_count": null,
      "outputs": []
    }
  ]
}